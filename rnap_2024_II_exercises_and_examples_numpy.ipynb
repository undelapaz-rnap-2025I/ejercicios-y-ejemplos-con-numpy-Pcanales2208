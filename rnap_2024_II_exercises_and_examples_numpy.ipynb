{
  "cells": [
    {
      "cell_type": "markdown",
      "metadata": {
        "id": "z9dathS_lkMu"
      },
      "source": [
        "# Exercises and Examples in Python with NumPy\n",
        "\n",
        "## Purpose\n",
        "This notebook aims to provide practice using NumPy and Python through guided examples and practical exercises. Topics include indexing, slicing, matrix operations, function definitions, and optimization using gradient descent.\n",
        "\n",
        "\n",
        "\n"
      ]
    },
    {
      "cell_type": "markdown",
      "metadata": {},
      "source": [
        "# 1 Examples: NumPy\n",
        "1.1. Basic Indexing: \n",
        "\n",
        "Descripción: Accede al elemento con índice 2 del arreglo arr, que es 30 (recordando que la indexación comienza desde 0).\n",
        "\n"
      ]
    },
    {
      "cell_type": "code",
      "execution_count": 4,
      "metadata": {
        "id": "JrciqVNelazN"
      },
      "outputs": [
        {
          "name": "stdout",
          "output_type": "stream",
          "text": [
            "30\n"
          ]
        }
      ],
      "source": [
        "import numpy as np\n",
        "\n",
        "arr = np.array([10, 20, 30, 40, 50])\n",
        "print(arr[2]) # Output: 30"
      ]
    },
    {
      "cell_type": "markdown",
      "metadata": {},
      "source": [
        "1.2. Slicing (Corte)\n",
        "\n",
        "Descripción: Extrae una sub-secuencia del arreglo desde el índice 1 hasta el 3 (el índice 4 no se incluye). El resultado es [20, 30, 40]."
      ]
    },
    {
      "cell_type": "code",
      "execution_count": 7,
      "metadata": {},
      "outputs": [
        {
          "name": "stdout",
          "output_type": "stream",
          "text": [
            "[20 30 40]\n"
          ]
        }
      ],
      "source": [
        "arr = np.array([10, 20, 30, 40, 50])\n",
        "print(arr[1:4]) # Output: [20 30 40]\n"
      ]
    },
    {
      "cell_type": "markdown",
      "metadata": {},
      "source": [
        "1.3. Indexing 2D Arrays\n",
        "\n",
        "Descripción: Accede al elemento ubicado en la segunda fila y tercera columna del arreglo 2D, que es 6."
      ]
    },
    {
      "cell_type": "code",
      "execution_count": 12,
      "metadata": {},
      "outputs": [
        {
          "name": "stdout",
          "output_type": "stream",
          "text": [
            "6\n"
          ]
        }
      ],
      "source": [
        "arr = np.array([[1, 2, 3], [4, 5, 6], [7, 8, 9]])\n",
        "print(arr[1, 2]) # Output: 6"
      ]
    },
    {
      "cell_type": "markdown",
      "metadata": {},
      "source": [
        "1.4. Slicing (Corte) de Arrays 2D\n",
        "\n",
        "Descripción: Extrae una submatriz que contiene las dos primeras filas y desde la segunda columna en adelante.\n",
        "\n"
      ]
    },
    {
      "cell_type": "code",
      "execution_count": 25,
      "metadata": {},
      "outputs": [
        {
          "name": "stdout",
          "output_type": "stream",
          "text": [
            "[[2 3]\n",
            " [5 6]]\n"
          ]
        }
      ],
      "source": [
        "print(arr[:2, 1:]) # Output: [[2 3] [5 6]]\n"
      ]
    },
    {
      "cell_type": "markdown",
      "metadata": {},
      "source": [
        "1.5. Indexación de Tensores 3D\n",
        "\n",
        "Descripción:\n",
        "\n",
        "-tensor[1, 0, 2] accede al elemento en el segundo bloque, primera fila, tercera columna → valor: 9.\n",
        "\n",
        "-tensor[1] devuelve el bloque 2D completo ubicado en la posición 1 (segundo bloque)."
      ]
    },
    {
      "cell_type": "code",
      "execution_count": null,
      "metadata": {},
      "outputs": [
        {
          "name": "stdout",
          "output_type": "stream",
          "text": [
            "9\n",
            "[[ 7  8  9]\n",
            " [10 11 12]]\n"
          ]
        }
      ],
      "source": [
        "tensor = np.array([[[1, 2, 3], [4, 5, 6]],\n",
        "[[7, 8, 9], [10, 11, 12]],\n",
        "[[13, 14, 15], [16, 17, 18]]])\n",
        "\n",
        "# Access specific elements\n",
        "print(tensor[1, 0, 2]) # Output: 9\n",
        "# Access an entire \"slice\" (2D submatrix)\n",
        "print(tensor[1]) # Output: [[ 7 8 9] [10 11 12]]"
      ]
    },
    {
      "cell_type": "markdown",
      "metadata": {},
      "source": [
        "1.6. Slicing de un Tensor 3D\n",
        "\n",
        "Descripción: Muestra cómo obtener cortes a lo largo de distintas dimensiones (bloques, filas, columnas) en un tensor 3D.\n",
        "\n"
      ]
    },
    {
      "cell_type": "code",
      "execution_count": 35,
      "metadata": {},
      "outputs": [
        {
          "name": "stdout",
          "output_type": "stream",
          "text": [
            "[[ 9 10 11]\n",
            " [12 13 14]\n",
            " [15 16 17]]\n",
            "[[ 3  4  5]\n",
            " [12 13 14]\n",
            " [21 22 23]]\n",
            "[[ 2  5  8]\n",
            " [11 14 17]\n",
            " [20 23 26]]\n"
          ]
        }
      ],
      "source": [
        "tensor = np.arange(27).reshape(3, 3, 3)\n",
        "# Slice along the first dimension\n",
        "print(tensor[1]) # Output: 3x3 submatrix\n",
        "# Slice along the second dimension\n",
        "print(tensor[:, 1, :]) # Output: 3x3 submatrix\n",
        "# Slice along the third dimension\n",
        "print(tensor[:, :, 2]) # Output: 3x3 submatrix"
      ]
    },
    {
      "cell_type": "markdown",
      "metadata": {},
      "source": [
        "1.7. Indexación de Tensor 4D\n",
        "\n",
        "Descripción:\n",
        "\n",
        "tensor[1, 2, 0, 3] accede al valor en el segundo bloque, tercera \"capa\"(matrices), primera fila, cuarta columna → valor: 47.\n",
        "\n",
        "tensor[1, 2] devuelve un sub-tensor de tamaño 2x4 (una sección tridimensional del tensor original).\n",
        "\n"
      ]
    },
    {
      "cell_type": "code",
      "execution_count": 36,
      "metadata": {},
      "outputs": [
        {
          "name": "stdout",
          "output_type": "stream",
          "text": [
            "43\n",
            "[[40 41 42 43]\n",
            " [44 45 46 47]]\n"
          ]
        }
      ],
      "source": [
        "tensor = np.arange(48).reshape(2, 3, 2, 4)\n",
        "# Access specific elements\n",
        "print(tensor[1, 2, 0, 3]) # Output: 47\n",
        "# Access a whole \"block\" (3D sub-tensor)\n",
        "print(tensor[1, 2]) # Output: 2x4x3 sub-tensor"
      ]
    },
    {
      "cell_type": "markdown",
      "metadata": {},
      "source": []
    },
    {
      "cell_type": "markdown",
      "metadata": {},
      "source": []
    },
    {
      "cell_type": "markdown",
      "metadata": {},
      "source": []
    },
    {
      "cell_type": "markdown",
      "metadata": {},
      "source": []
    },
    {
      "cell_type": "markdown",
      "metadata": {},
      "source": []
    },
    {
      "cell_type": "markdown",
      "metadata": {},
      "source": []
    }
  ],
  "metadata": {
    "colab": {
      "provenance": []
    },
    "kernelspec": {
      "display_name": "Python 3",
      "name": "python3"
    },
    "language_info": {
      "codemirror_mode": {
        "name": "ipython",
        "version": 3
      },
      "file_extension": ".py",
      "mimetype": "text/x-python",
      "name": "python",
      "nbconvert_exporter": "python",
      "pygments_lexer": "ipython3",
      "version": "3.11.9"
    }
  },
  "nbformat": 4,
  "nbformat_minor": 0
}
