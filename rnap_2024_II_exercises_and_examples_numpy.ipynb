{
  "cells": [
    {
      "cell_type": "markdown",
      "metadata": {
        "id": "z9dathS_lkMu"
      },
      "source": [
        "# Exercises and Examples in Python with NumPy\n",
        "\n",
        "## Purpose\n",
        "This notebook aims to provide practice using NumPy and Python through guided examples and practical exercises. Topics include indexing, slicing, matrix operations, function definitions, and optimization using gradient descent.\n",
        "\n",
        "\n",
        "\n"
      ]
    },
    {
      "cell_type": "markdown",
      "metadata": {},
      "source": [
        "# 1 Examples: NumPy\n",
        "1. Basic Indexing: \n",
        "\n",
        "Descripción: Accede al elemento con índice 2 del arreglo arr, que es 30 (recordando que la indexación comienza desde 0).\n",
        "\n"
      ]
    },
    {
      "cell_type": "code",
      "execution_count": 2,
      "metadata": {
        "id": "JrciqVNelazN"
      },
      "outputs": [
        {
          "name": "stdout",
          "output_type": "stream",
          "text": [
            "30\n"
          ]
        }
      ],
      "source": [
        "import numpy as np\n",
        "\n",
        "arr = np.array([10, 20, 30, 40, 50])\n",
        "print(arr[2]) # Output: 30"
      ]
    },
    {
      "cell_type": "markdown",
      "metadata": {},
      "source": [
        "2. Slicing (Corte)\n",
        "\n",
        "Descripción: Extrae una sub-secuencia del arreglo desde el índice 1 hasta el 3 (el índice 4 no se incluye). El resultado es [20, 30, 40]."
      ]
    },
    {
      "cell_type": "code",
      "execution_count": 3,
      "metadata": {},
      "outputs": [
        {
          "name": "stdout",
          "output_type": "stream",
          "text": [
            "[20 30 40]\n"
          ]
        }
      ],
      "source": [
        "arr = np.array([10, 20, 30, 40, 50])\n",
        "print(arr[1:4]) # Output: [20 30 40]\n"
      ]
    },
    {
      "cell_type": "markdown",
      "metadata": {},
      "source": [
        "3. Indexing 2D Arrays\n",
        "\n",
        "Descripción: Accede al elemento ubicado en la segunda fila y tercera columna del arreglo 2D, que es 6."
      ]
    },
    {
      "cell_type": "code",
      "execution_count": 4,
      "metadata": {},
      "outputs": [
        {
          "name": "stdout",
          "output_type": "stream",
          "text": [
            "6\n"
          ]
        }
      ],
      "source": [
        "arr = np.array([[1, 2, 3], [4, 5, 6], [7, 8, 9]])\n",
        "print(arr[1, 2]) # Output: 6"
      ]
    },
    {
      "cell_type": "markdown",
      "metadata": {},
      "source": [
        "4. Slicing (Corte) de Arrays 2D\n",
        "\n",
        "Descripción: Extrae una submatriz que contiene las dos primeras filas y desde la segunda columna en adelante.\n",
        "\n"
      ]
    },
    {
      "cell_type": "code",
      "execution_count": 5,
      "metadata": {},
      "outputs": [
        {
          "name": "stdout",
          "output_type": "stream",
          "text": [
            "[[2 3]\n",
            " [5 6]]\n"
          ]
        }
      ],
      "source": [
        "print(arr[:2, 1:]) # Output: [[2 3] [5 6]]\n"
      ]
    },
    {
      "cell_type": "markdown",
      "metadata": {},
      "source": [
        "5. Indexación de Tensores 3D\n",
        "\n",
        "Descripción:\n",
        "\n",
        "-tensor[1, 0, 2] accede al elemento en el segundo bloque, primera fila, tercera columna → valor: 9.\n",
        "\n",
        "-tensor[1] devuelve el bloque 2D completo ubicado en la posición 1 (segundo bloque)."
      ]
    },
    {
      "cell_type": "code",
      "execution_count": 6,
      "metadata": {},
      "outputs": [
        {
          "name": "stdout",
          "output_type": "stream",
          "text": [
            "9\n",
            "[[ 7  8  9]\n",
            " [10 11 12]]\n"
          ]
        }
      ],
      "source": [
        "tensor = np.array([[[1, 2, 3], [4, 5, 6]],\n",
        "[[7, 8, 9], [10, 11, 12]],\n",
        "[[13, 14, 15], [16, 17, 18]]])\n",
        "\n",
        "# Access specific elements\n",
        "print(tensor[1, 0, 2]) # Output: 9\n",
        "# Access an entire \"slice\" (2D submatrix)\n",
        "print(tensor[1]) # Output: [[ 7 8 9] [10 11 12]]"
      ]
    },
    {
      "cell_type": "markdown",
      "metadata": {},
      "source": [
        "6. Slicing de un Tensor 3D\n",
        "\n",
        "Descripción: Muestra cómo obtener cortes a lo largo de distintas dimensiones (bloques, filas, columnas) en un tensor 3D.\n",
        "\n"
      ]
    },
    {
      "cell_type": "code",
      "execution_count": 7,
      "metadata": {},
      "outputs": [
        {
          "name": "stdout",
          "output_type": "stream",
          "text": [
            "[[ 9 10 11]\n",
            " [12 13 14]\n",
            " [15 16 17]]\n",
            "[[ 3  4  5]\n",
            " [12 13 14]\n",
            " [21 22 23]]\n",
            "[[ 2  5  8]\n",
            " [11 14 17]\n",
            " [20 23 26]]\n"
          ]
        }
      ],
      "source": [
        "tensor = np.arange(27).reshape(3, 3, 3)\n",
        "# Slice along the first dimension\n",
        "print(tensor[1]) # Output: 3x3 submatrix\n",
        "# Slice along the second dimension\n",
        "print(tensor[:, 1, :]) # Output: 3x3 submatrix\n",
        "# Slice along the third dimension\n",
        "print(tensor[:, :, 2]) # Output: 3x3 submatrix"
      ]
    },
    {
      "cell_type": "markdown",
      "metadata": {},
      "source": [
        "7. Indexación de Tensor 4D\n",
        "\n",
        "Descripción:\n",
        "\n",
        "tensor[1, 2, 0, 3] accede al valor en el segundo bloque, tercera \"capa\"(matrices), primera fila, cuarta columna → valor: 47.\n",
        "\n",
        "tensor[1, 2] devuelve un sub-tensor de tamaño 2x4 (una sección tridimensional del tensor original).\n",
        "\n"
      ]
    },
    {
      "cell_type": "code",
      "execution_count": 8,
      "metadata": {},
      "outputs": [
        {
          "name": "stdout",
          "output_type": "stream",
          "text": [
            "43\n",
            "[[40 41 42 43]\n",
            " [44 45 46 47]]\n"
          ]
        }
      ],
      "source": [
        "tensor = np.arange(48).reshape(2, 3, 2, 4)\n",
        "# Access specific elements\n",
        "print(tensor[1, 2, 0, 3]) # Output: 47\n",
        "# Access a whole \"block\" (3D sub-tensor)\n",
        "print(tensor[1, 2]) # Output: 2x4x3 sub-tensor"
      ]
    },
    {
      "cell_type": "markdown",
      "metadata": {},
      "source": [
        "\n",
        "8. Slicing en Tensor 4D\n",
        "\n",
        "Descripción:\n",
        "\n",
        "tensor[1]: todo el segundo bloque.\n",
        "\n",
        "tensor[:, 2, :, :]: la tercera \"capa\" (índice 2) de todos los bloques.\n",
        "\n",
        "tensor[:, :, 0, :]: la primera \"fila interna\" de todos los bloques."
      ]
    },
    {
      "cell_type": "code",
      "execution_count": 12,
      "metadata": {},
      "outputs": [
        {
          "name": "stdout",
          "output_type": "stream",
          "text": [
            "[[[24 25 26 27]\n",
            "  [28 29 30 31]]\n",
            "\n",
            " [[32 33 34 35]\n",
            "  [36 37 38 39]]\n",
            "\n",
            " [[40 41 42 43]\n",
            "  [44 45 46 47]]]\n",
            "[[[16 17 18 19]\n",
            "  [20 21 22 23]]\n",
            "\n",
            " [[40 41 42 43]\n",
            "  [44 45 46 47]]]\n",
            "[[[ 0  1  2  3]\n",
            "  [ 8  9 10 11]\n",
            "  [16 17 18 19]]\n",
            "\n",
            " [[24 25 26 27]\n",
            "  [32 33 34 35]\n",
            "  [40 41 42 43]]]\n"
          ]
        }
      ],
      "source": [
        "tensor = np.arange(48).reshape(2, 3, 2, 4)\n",
        "# Slice along the first dimension\n",
        "print(tensor[1]) # Output: 3x2x4 sub-tensor\n",
        "# Slice along the second dimension\n",
        "print(tensor[:, 2, :, :]) # Output: 2x2x4 sub-tensor\n",
        "# Slice along the third dimension\n",
        "print(tensor[:, :, 0, :]) # Output: 2x3x4 sub-tensor"
      ]
    },
    {
      "cell_type": "markdown",
      "metadata": {},
      "source": [
        "9. Suma de Matrices\n",
        "\n",
        "Descripción: Se suman las matrices A y B elemento por elemento."
      ]
    },
    {
      "cell_type": "code",
      "execution_count": 10,
      "metadata": {},
      "outputs": [
        {
          "name": "stdout",
          "output_type": "stream",
          "text": [
            "[[ 6  8]\n",
            " [10 12]]\n"
          ]
        }
      ],
      "source": [
        "A = np.array([[1, 2], [3, 4]])\n",
        "B = np.array([[5, 6], [7, 8]])\n",
        "result = A + B\n",
        "print(result)\n"
      ]
    },
    {
      "cell_type": "markdown",
      "metadata": {},
      "source": [
        "10. Multiplicación de Matrices\n",
        "\n",
        "Descripción: Se realiza la multiplicación matricial estándar."
      ]
    },
    {
      "cell_type": "code",
      "execution_count": 11,
      "metadata": {},
      "outputs": [
        {
          "name": "stdout",
          "output_type": "stream",
          "text": [
            "[[19 22]\n",
            " [43 50]]\n"
          ]
        }
      ],
      "source": [
        "A = np.array([[1, 2], [3, 4]])\n",
        "B = np.array([[5, 6], [7, 8]])\n",
        "result = np.dot(A, B)\n",
        "print(result)"
      ]
    },
    {
      "cell_type": "markdown",
      "metadata": {},
      "source": [
        "11. Transpuesta de una Matriz\n",
        "\n",
        "Descripción: La función np.transpose invierte filas y columnas."
      ]
    },
    {
      "cell_type": "code",
      "execution_count": 13,
      "metadata": {},
      "outputs": [
        {
          "name": "stdout",
          "output_type": "stream",
          "text": [
            "[[1 3]\n",
            " [2 4]]\n"
          ]
        }
      ],
      "source": [
        "A = np.array([[1, 2], [3, 4]])\n",
        "result = np.transpose(A)\n",
        "print(result)"
      ]
    },
    {
      "cell_type": "markdown",
      "metadata": {},
      "source": [
        "12. Determinante e Inversa\n",
        "\n",
        "Descripción:\n",
        "\n",
        "np.linalg.det(A): calcula el determinante.\n",
        "\n",
        "np.linalg.inv(A): calcula la inversa de la matriz A.\n",
        "\n"
      ]
    },
    {
      "cell_type": "code",
      "execution_count": 14,
      "metadata": {},
      "outputs": [
        {
          "name": "stdout",
          "output_type": "stream",
          "text": [
            "Determinant: -2.0000000000000004\n",
            "Inverse:\n",
            " [[-2.   1. ]\n",
            " [ 1.5 -0.5]]\n"
          ]
        }
      ],
      "source": [
        "A = np.array([[1, 2], [3, 4]])\n",
        "det = np.linalg.det(A)\n",
        "inverse = np.linalg.inv(A)\n",
        "print(\"Determinant:\", det)\n",
        "print(\"Inverse:\\n\", inverse)"
      ]
    },
    {
      "cell_type": "markdown",
      "metadata": {},
      "source": [
        "13. Valores y Vectores Propios (Eigenvalues/Eigenvectors)\n",
        "\n",
        "Descripción: Calcula los autovalores y autovectores de la matriz A, que son importantes en álgebra lineal y machine learning.\n",
        "\n"
      ]
    },
    {
      "cell_type": "code",
      "execution_count": 23,
      "metadata": {},
      "outputs": [
        {
          "name": "stdout",
          "output_type": "stream",
          "text": [
            "Eigenvalues: [2.00000002 1.99999998]\n",
            "Eigenvectors:\n",
            " [[-0.70710677 -0.70710679]\n",
            " [ 0.70710679  0.70710677]]\n"
          ]
        }
      ],
      "source": [
        "A = np.array([[1, -1], [1, 3]])\n",
        "eigenvalues, eigenvectors = np.linalg.eig(A)\n",
        "print(\"Eigenvalues:\", eigenvalues)\n",
        "print(\"Eigenvectors:\\n\", eigenvectors)"
      ]
    },
    {
      "cell_type": "markdown",
      "metadata": {},
      "source": [
        "14. Resolver Sistemas de Ecuaciones Lineales\n",
        "\n",
        "Descripción: Resuelve el sistema de ecuaciones lineales Ax = b."
      ]
    },
    {
      "cell_type": "code",
      "execution_count": 26,
      "metadata": {},
      "outputs": [
        {
          "name": "stdout",
          "output_type": "stream",
          "text": [
            "Solution: [1. 1.]\n"
          ]
        }
      ],
      "source": [
        "A = np.array([[2, 1], [1, 1]])\n",
        "b = np.array([3,2])\n",
        "solution = np.linalg.solve(A, b)\n",
        "print(\"Solution:\", solution)"
      ]
    },
    {
      "cell_type": "markdown",
      "metadata": {},
      "source": [
        "15. Descenso por Gradiente (Regresión Lineal)\n",
        "\n",
        "Descripción:\n",
        "\n",
        "Se genera un dataset artificial para regresión lineal.\n",
        "\n",
        "Se entrena un modelo usando descenso por gradiente.\n",
        "\n",
        "theta son los parámetros óptimos del modelo (intercepto y pendiente).\n",
        "\n",
        "El objetivo es minimizar el error cuadrático medio (MSE)."
      ]
    },
    {
      "cell_type": "code",
      "execution_count": 35,
      "metadata": {},
      "outputs": [
        {
          "name": "stdout",
          "output_type": "stream",
          "text": [
            "Final theta: [[4.22215108]\n",
            " [2.96846751]]\n"
          ]
        }
      ],
      "source": [
        "# Generate some sample data\n",
        "np.random.seed(0)\n",
        "X = 2 * np.random.rand(100, 1)\n",
        "y = 4 + 3 * X + np.random.randn(100, 1)\n",
        "# Add bias term to X\n",
        "X_b = np.hstack((np.ones((100, 1)), X))\n",
        "# Hyperparameters\n",
        "learning_rate = 0.1\n",
        "n_iterations = 1000\n",
        "# Initialize the parameters\n",
        "theta = np.random.randn(2, 1) \n",
        "# Gradient Descent\n",
        "for iteration in range(n_iterations):\n",
        "  \n",
        "    gradients = 2 / 100 * X_b.T.dot(X_b.dot(theta) - y)\n",
        "\n",
        "    theta = theta - learning_rate * gradients\n",
        "\n",
        "print(\"Final theta:\", theta)"
      ]
    },
    {
      "cell_type": "markdown",
      "metadata": {},
      "source": [
        "# 2 Examples: Python functions and classes"
      ]
    },
    {
      "cell_type": "markdown",
      "metadata": {},
      "source": [
        "1. Función Simple\n",
        "\n",
        "Descripción: Esta función recibe un nombre y devuelve un saludo personalizado. Simplemente concatena \"Hello, \" con el nombre proporcionado.\n",
        "\n"
      ]
    },
    {
      "cell_type": "code",
      "execution_count": 149,
      "metadata": {},
      "outputs": [
        {
          "name": "stdout",
          "output_type": "stream",
          "text": [
            "Hello, Ana!\n"
          ]
        }
      ],
      "source": [
        "def greet(name):\n",
        "    return \"Hello, \" + name + \"!\"\n",
        "print(greet(\"Ana\")) # Output: Hello, Ana!"
      ]
    },
    {
      "cell_type": "markdown",
      "metadata": {},
      "source": [
        "2. Función con Parámetros y Retorno\n",
        "\n",
        "Descripción: Suma dos números y devuelve el resultado. Los parámetros a y b son sumados y el resultado se retorna."
      ]
    },
    {
      "cell_type": "code",
      "execution_count": 150,
      "metadata": {},
      "outputs": [
        {
          "name": "stdout",
          "output_type": "stream",
          "text": [
            "12\n"
          ]
        }
      ],
      "source": [
        "def add_numbers(a, b):\n",
        "    sum = a + b\n",
        "    return sum\n",
        "\n",
        "result = add_numbers(5, 7)\n",
        "print(result)  # Output: 12"
      ]
    },
    {
      "cell_type": "markdown",
      "metadata": {},
      "source": [
        "3. Función con Parámetro por Defecto\n",
        "\n",
        "Descripción: Calcula la potencia de un número. Si no se proporciona el exponente, se usa el valor por defecto 2."
      ]
    },
    {
      "cell_type": "code",
      "execution_count": 151,
      "metadata": {},
      "outputs": [
        {
          "name": "stdout",
          "output_type": "stream",
          "text": [
            "9\n",
            "8\n"
          ]
        }
      ],
      "source": [
        "def power(base, exponent=2):\n",
        "    return base ** exponent\n",
        "\n",
        "print(power(3))      # Output: 9\n",
        "print(power(2, 3))   # Output: 8"
      ]
    },
    {
      "cell_type": "markdown",
      "metadata": {},
      "source": [
        "4. Función con Múltiples Retornos\n",
        "\n",
        "Descripción: Devuelve el valor mínimo y máximo de una lista de números usando min() y max()."
      ]
    },
    {
      "cell_type": "code",
      "execution_count": 152,
      "metadata": {},
      "outputs": [
        {
          "name": "stdout",
          "output_type": "stream",
          "text": [
            "2 9\n"
          ]
        }
      ],
      "source": [
        "def min_max(numbers):\n",
        "    return min(numbers), max(numbers)\n",
        "\n",
        "nums = [4, 9, 2, 7, 5]\n",
        "minimum, maximum = min_max(nums)\n",
        "print(minimum, maximum)  # Output: 2 9"
      ]
    },
    {
      "cell_type": "markdown",
      "metadata": {},
      "source": [
        "5. Función con Docstring\n",
        "\n",
        "Descripción: Esta función tiene una cadena de documentación (docstring) que explica cómo usarla. Calcula el área multiplicando largo por ancho."
      ]
    },
    {
      "cell_type": "code",
      "execution_count": 153,
      "metadata": {},
      "outputs": [],
      "source": [
        "def area_of_rectangle(length, width):\n",
        "    \"\"\"\n",
        "    Calcula el área de un rectángulo.\n",
        "    \n",
        "    Args:\n",
        "        length (float): Longitud del rectángulo.\n",
        "        width (float): Ancho del rectángulo.\n",
        "    \n",
        "    Returns:\n",
        "        float: Área del rectángulo.\n",
        "    \"\"\"\n",
        "    return length * width"
      ]
    },
    {
      "cell_type": "markdown",
      "metadata": {},
      "source": [
        "6. Creación de una Clase Simple\n",
        "\n",
        "Descripción: Se define una clase Dog con atributos y un método. El método bark() imprime un mensaje cuando el perro ladra.\n",
        "\n"
      ]
    },
    {
      "cell_type": "code",
      "execution_count": 169,
      "metadata": {},
      "outputs": [
        {
          "name": "stdout",
          "output_type": "stream",
          "text": [
            "Buddy is barking!\n"
          ]
        }
      ],
      "source": [
        "class Dog:\n",
        "    def __init__(self, name, age):\n",
        "        self.name = name\n",
        "        self.age = age\n",
        "      \n",
        "\n",
        "    def bark(self):\n",
        "        print(f\"{self.name} is barking!\")\n",
        "\n",
        "# Crear una instancia\n",
        "dog1 = Dog(\"Buddy\", 3)\n",
        "dog1.bark()  # Output: Buddy is barking!"
      ]
    },
    {
      "cell_type": "markdown",
      "metadata": {},
      "source": [
        "7. Clase con Métodos y Atributos Adicionales\n",
        "\n",
        "Descripción: Se crea una clase Student que permite agregar calificaciones y calcular el promedio. Usa listas y operaciones básicas.\n",
        "\n"
      ]
    },
    {
      "cell_type": "code",
      "execution_count": 1,
      "metadata": {},
      "outputs": [
        {
          "name": "stdout",
          "output_type": "stream",
          "text": [
            "Alice’s average grade: 88.5\n"
          ]
        }
      ],
      "source": [
        "class Student:\n",
        "\tdef __init__(self, name, age):\n",
        "\t\tself.name = name\n",
        "\t\tself.age = age\n",
        "\t\tself.grades = []\n",
        "\n",
        "\tdef add_grade(self, grade):\n",
        "\t\tself.grades.append(grade)\n",
        "\n",
        "\tdef get_average_grade(self):\n",
        "\t\treturn sum(self.grades) / len(self.grades)\n",
        "\n",
        "# Create a Student instance and add grades\n",
        "student1 = Student(\"Alice\", 18)\n",
        "student1.add_grade(85)\n",
        "student1.add_grade(92)\n",
        "average_grade = student1.get_average_grade()\n",
        "print(f\"{student1.name}’s average grade: {average_grade}\")"
      ]
    },
    {
      "cell_type": "markdown",
      "metadata": {},
      "source": [
        "8. Herencia en Clases\n",
        "\n",
        "Descripción: Se utiliza herencia. Cat y Dog heredan de Animal y sobrescriben el método speak() con su propio comportamiento."
      ]
    },
    {
      "cell_type": "code",
      "execution_count": 180,
      "metadata": {},
      "outputs": [
        {
          "name": "stdout",
          "output_type": "stream",
          "text": [
            "Whiskers says Meow!\n",
            "Buddy says Woof!\n"
          ]
        }
      ],
      "source": [
        "class Animal:\n",
        "    def __init__(self, name):\n",
        "        self.name = name\n",
        "\n",
        "    def speak(self):\n",
        "        pass  # Método a sobrescribir\n",
        "\n",
        "class Cat(Animal):\n",
        "    def speak(self):\n",
        "        print(f\"{self.name} says Meow!\")\n",
        "\n",
        "class Dog(Animal):\n",
        "    def speak(self):\n",
        "        print(f\"{self.name} says Woof!\")\n",
        "\n",
        "# Instancias\n",
        "cat = Cat(\"Whiskers\")\n",
        "dog = Dog(\"Buddy\")\n",
        "\n",
        "cat.speak()  # Output: Whiskers says Meow!\n",
        "dog.speak()  # Output: Buddy says Woof!"
      ]
    },
    {
      "attachments": {
        "image.png": {
          "image/png": "[encoded data removed]"
        }
      },
      "cell_type": "markdown",
      "metadata": {},
      "source": [
        "# 3 Exercises\n",
        "3.1 Indexing Arrays in NumPy\n",
        "1. Given the NumPy array arr = np.array([3, 7, 1, 9, 5]), perform\n",
        "the following indexing operations:\n",
        "\n",
        "a) Retrieve the third element of the array.\n",
        "\n",
        "b) Slice the array to get elements from index 1 to index 3.\n",
        "\n",
        "c) Change the value of the fourth element to 12.\n",
        "\n",
        "2. Create a 2D NumPy array matrix with the following values:\n",
        "\n",
        "![image.png](attachment:image.png)\n",
        "\n",
        "a) Retrieve the element in the second row and third column.\n",
        "\n",
        "b) Slice the matrix to get the submatrix consisting of the first two rows\n",
        "and all columns."
      ]
    },
    {
      "cell_type": "code",
      "execution_count": 2,
      "metadata": {},
      "outputs": [
        {
          "name": "stdout",
          "output_type": "stream",
          "text": [
            "1.a) 1\n",
            "1.b) [7 1 9]\n",
            "1.c) [ 3  7  1 12  5]\n",
            "2.a) 6\n",
            "2.b)\n",
            " [[1 2 3]\n",
            " [4 5 6]]\n"
          ]
        }
      ],
      "source": [
        "import numpy as np\n",
        "\n",
        "# 1\n",
        "arr = np.array([3, 7, 1, 9, 5])\n",
        "\n",
        "# a) Tercer elemento (índice 2)\n",
        "print(\"1.a)\", arr[2])  # 1\n",
        "\n",
        "# b) Slice desde el índice 1 al 3 (no incluye el 4)\n",
        "print(\"1.b)\", arr[1:4])  # [7 1 9]\n",
        "\n",
        "# c) Cambiar el cuarto elemento (índice 3) a 12\n",
        "arr[3] = 12\n",
        "print(\"1.c)\", arr)  # [3 7 1 12 5]\n",
        "\n",
        "# 2\n",
        "matrix = np.array([[1, 2, 3],\n",
        "                   [4, 5, 6],\n",
        "                   [7, 8, 9]])\n",
        "\n",
        "# a) Segunda fila, tercera columna (índices [1][2])\n",
        "print(\"2.a)\", matrix[1, 2])  # 6\n",
        "\n",
        "# b) Submatriz con las dos primeras filas y todas las columnas\n",
        "print(\"2.b)\\n\", matrix[0:2, :])\n"
      ]
    },
    {
      "attachments": {
        "image.png": {
          "image/png": "[encoded data removed]"
        }
      },
      "cell_type": "markdown",
      "metadata": {},
      "source": [
        "3.2 Indexing and Slicing Higher-Dimensional Tensors\n",
        "Consider the following 3D tensor representing a stack of matrices:\n",
        "\n",
        "![image.png](attachment:image.png)\n",
        "\n",
        "1. Retrieve the element at the position (1, 0, 2) within the tensor.\n",
        "\n",
        "2. Slice the tensor to obtain the 3 × 4 sub-tensor that corresponds to the\n",
        "second “matrix” (slice) along the first dimension.\n",
        "\n",
        "3. Slice the tensor to obtain the 2×4 sub-tensor that corresponds to the last\n",
        "row of the last two “matrices.”\n",
        "\n",
        "4. Retrieve the element at the position (2, 1, 3) within the tensor.\n",
        "\n",
        "5. Slice the tensor to obtain the 2×4 sub-tensor that corresponds to the first\n",
        "row of the las two “matrices.”\n",
        "Hint: Remember that in NumPy indexing, the first index corresponds to the\n",
        "outermost dimension, the second index corresponds to the next inner dimension,\n",
        "and so on."
      ]
    },
    {
      "cell_type": "code",
      "execution_count": 6,
      "metadata": {},
      "outputs": [
        {
          "name": "stdout",
          "output_type": "stream",
          "text": [
            "1) 15\n",
            "2)\n",
            " [[13 14 15 16]\n",
            " [17 18 19 20]\n",
            " [21 22 23 24]]\n",
            "3)\n",
            " [[21 22 23 24]\n",
            " [33 34 35 36]]\n",
            "4) 32\n",
            "5)\n",
            " [[13 14 15 16]\n",
            " [25 26 27 28]]\n"
          ]
        }
      ],
      "source": [
        "tensor = np.array([\n",
        "    [[ 1,  2,  3,  4],\n",
        "     [ 5,  6,  7,  8],\n",
        "     [ 9, 10, 11, 12]],\n",
        "    \n",
        "    [[13, 14, 15, 16],\n",
        "     [17, 18, 19, 20],\n",
        "     [21, 22, 23, 24]],\n",
        "    \n",
        "    [[25, 26, 27, 28],\n",
        "     [29, 30, 31, 32],\n",
        "     [33, 34, 35, 36]]\n",
        "])\n",
        "\n",
        "\n",
        "# 1\n",
        "print(\"1)\", tensor[1, 0, 2])  # 15\n",
        "\n",
        "# 2\n",
        "print(\"2)\\n\", tensor[1, :, :])\n",
        "\n",
        "# 3\n",
        "print(\"3)\\n\", tensor[1:, 2, :])  # Última fila de matrices 1 y 2\n",
        "\n",
        "# 4\n",
        "print(\"4)\", tensor[2, 1, 3])  # 32\n",
        "\n",
        "# 5\n",
        "print(\"5)\\n\", tensor[1:, 0, :])  # Primera fila de matrices 1 y 2\n"
      ]
    },
    {
      "cell_type": "markdown",
      "metadata": {},
      "source": [
        "3.3 Defining Functions in Python\n",
        "\n",
        "1. Write a Python function calculate average that takes a list of numbers\n",
        "as input and returns the average of those numbers."
      ]
    },
    {
      "cell_type": "code",
      "execution_count": null,
      "metadata": {},
      "outputs": [],
      "source": [
        "def calculate_average(numbers):\n",
        "    return sum(numbers) / len(numbers)\n",
        "\n",
        "print(\"Promedio:\", calculate_average([4, 8, 10]))  # Output: 7.33\n"
      ]
    },
    {
      "cell_type": "markdown",
      "metadata": {},
      "source": [
        "2. Define a function find power that calculates the result of a number raised\n",
        "to a given exponent. The function should have two parameters: base (the\n",
        "base number) and exponent (default value should be 2).\n",
        "\n"
      ]
    },
    {
      "cell_type": "code",
      "execution_count": null,
      "metadata": {},
      "outputs": [],
      "source": [
        "def find_power(base, exponent=2):\n",
        "    return base ** exponent\n",
        "\n",
        "print(\"Power 3^2:\", find_power(3))       # Output: 9\n",
        "print(\"Power 2^3:\", find_power(2, 3))    # Output: 8\n"
      ]
    },
    {
      "cell_type": "markdown",
      "metadata": {},
      "source": [
        "3.4 Implementing Gradient Descent Optimization\n",
        "\n",
        "1. Consider the linear regression problem where you have the following data\n",
        "points:\n",
        "\n",
        "X = [1, 2, 3, 4, 5]\n",
        "\n",
        "y = [3, 6, 8, 11, 13]\n",
        "\n",
        "Implement a Python program using NumPy to perform gradient descent\n",
        "optimization to find the parameters θ0 and θ1 for the linear regression\n",
        "model hθ(x) = θ0 + θ1x. Use a learning rate of 0.01 and iterate for 1000\n",
        "steps.\n",
        "\n",
        "2. Draw in a plot the progress of the θ0 and θ1 parameters through the steps.\n",
        "\n",
        "3. Explain in your own words the purpose of the learning rate in gradient\n",
        "descent optimization."
      ]
    },
    {
      "cell_type": "code",
      "execution_count": 41,
      "metadata": {},
      "outputs": [
        {
          "name": "stdout",
          "output_type": "stream",
          "text": [
            "Resultado final: θ0 = [0.69871031], θ1 = [2.50035722]\n"
          ]
        },
        {
          "data": {
            "image/png": "[encoded data removed]",
            "text/plain": [
              "<Figure size 640x480 with 1 Axes>"
            ]
          },
          "metadata": {},
          "output_type": "display_data"
        }
      ],
      "source": [
        "import numpy as np\n",
        "import matplotlib.pyplot as plt\n",
        "\n",
        "# Datos de entrada\n",
        "X = np.array([1, 2, 3, 4, 5])\n",
        "y = np.array([3, 6, 8, 11, 13])\n",
        "X = X.reshape(-1, 1)  # Convertir a matriz columna\n",
        "y = y.reshape(-1, 1)  # Convertir a matriz columna\n",
        "m=len(y)\n",
        "# Add bias term to X\n",
        "X_b = np.hstack((np.ones((m, 1)), X))\n",
        "\n",
        "learning_rate = 0.1\n",
        "n_iterations = 1000\n",
        "# Initialize the parameters\n",
        "theta = np.zeros((2, 1)) \n",
        "\n",
        "\n",
        "# Algoritmo de descenso por gradiente\n",
        "for i in range(n_iterations):\n",
        "    gradients = 2 / 100 * X_b.T.dot(X_b.dot(theta) - y)\n",
        "\n",
        "    theta = theta - learning_rate * gradients\n",
        "# Mostrar resultados finales\n",
        "print(f\"Resultado final: θ0 = {theta[0]}, θ1 = {theta[1]}\")\n",
        "\n",
        "# Graficar la evolución de los parámetros\n",
        "plt.plot(historial_theta_0, label=\"θ0 (intercepto)\")\n",
        "plt.plot(historial_theta_1, label=\"θ1 (pendiente)\")\n",
        "plt.title(\"Evolución de los parámetros θ0 y θ1\")\n",
        "plt.xlabel(\"Iteraciones\")\n",
        "plt.ylabel(\"Valor del parámetro\")\n",
        "plt.legend()\n",
        "plt.grid(True)\n",
        "plt.show()\n",
        "\n"
      ]
    },
    {
      "cell_type": "markdown",
      "metadata": {},
      "source": [
        "*Explicación del learning rate*\n",
        "\n",
        "El learning rate (tasa de aprendizaje) controla qué tan grandes son los pasos que da el algoritmo al ajustar los parámetros.\n",
        "\n",
        "Si es muy grande, puede saltar el mínimo y nunca converger.\n",
        "\n",
        "Si es muy pequeño, va muy lento o se queda atascado.\n",
        "\n",
        "En este ejercicio usamos 0.01, que es un valor común y estable."
      ]
    }
  ],
  "metadata": {
    "colab": {
      "provenance": []
    },
    "kernelspec": {
      "display_name": "Python 3",
      "name": "python3"
    },
    "language_info": {
      "codemirror_mode": {
        "name": "ipython",
        "version": 3
      },
      "file_extension": ".py",
      "mimetype": "text/x-python",
      "name": "python",
      "nbconvert_exporter": "python",
      "pygments_lexer": "ipython3",
      "version": "3.11.9"
    }
  },
  "nbformat": 4,
  "nbformat_minor": 0
}
